{
 "cells": [
  {
   "cell_type": "markdown",
   "metadata": {},
   "source": [
    "# SFND 2D Tracking Project Data Analysis\n",
    "\n",
    "This report compares various detector and descriptor combinations for tracking points on a sample of images with a focus on the back of a vehicle."
   ]
  },
  {
   "cell_type": "code",
   "execution_count": 11,
   "metadata": {},
   "outputs": [],
   "source": [
    "%matplotlib notebook\n",
    "import matplotlib.pyplot as plt\n",
    "import numpy as np"
   ]
  },
  {
   "cell_type": "code",
   "execution_count": 12,
   "metadata": {},
   "outputs": [],
   "source": [
    "# input\n",
    "data_file = 'data/output_2020-04-07_09h04m54s.csv'"
   ]
  },
  {
   "cell_type": "code",
   "execution_count": 13,
   "metadata": {},
   "outputs": [],
   "source": [
    "# Load data\n",
    "data_type = {'names': ('case', 'image',\n",
    "                       'detector', 'descriptor',\n",
    "                       'matcher', 'selector',\n",
    "                       'detector_duration', 'descriptor_duration', 'matching_duration',\n",
    "                       'keypoints', 'keypoint_size_mean', 'keypoint_size_stddev',\n",
    "                       'matches'),\n",
    "             'formats': ('i', 'i',\n",
    "                         'U10', 'U10',\n",
    "                         'U10', 'U10',\n",
    "                         'd', 'd', 'd',\n",
    "                         'd', 'd', 'd',\n",
    "                         'i')}\n",
    "raw_data = np.loadtxt(data_file, skiprows=1, delimiter=',', dtype=data_type)"
   ]
  },
  {
   "cell_type": "code",
   "execution_count": null,
   "metadata": {},
   "outputs": [],
   "source": []
  }
 ],
 "metadata": {
  "kernelspec": {
   "display_name": "Python 3",
   "language": "python",
   "name": "python3"
  },
  "language_info": {
   "codemirror_mode": {
    "name": "ipython",
    "version": 3
   },
   "file_extension": ".py",
   "mimetype": "text/x-python",
   "name": "python",
   "nbconvert_exporter": "python",
   "pygments_lexer": "ipython3",
   "version": "3.6.9"
  }
 },
 "nbformat": 4,
 "nbformat_minor": 4
}
